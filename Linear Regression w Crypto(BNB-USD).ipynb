{
 "cells": [
  {
   "cell_type": "code",
   "execution_count": 4,
   "metadata": {},
   "outputs": [],
   "source": [
    "import pandas as pd\n",
    "# Import seaborn\n",
    "import seaborn as sns\n",
    "import matplotlib.pyplot as plt\n",
    "import numpy as np\n",
    "from sklearn.model_selection import train_test_split\n",
    "from sklearn.linear_model import LinearRegression\n",
    "from sklearn.preprocessing import LabelEncoder\n",
    "from sklearn.metrics import mean_squared_error\n",
    "\n",
    "# Load local csv in to dataframe\n",
    "# DATA USED: Binance Coin data starting from 25th of July 2017\n",
    "#NOTE: There were missing values in all columns on specific dates\n",
    "#those values were deleted since it was not possible to find or calculate the values at the time\n",
    "#of this experiment.\n",
    "\n",
    "df = pd.read_csv(r'C:\\Users\\TonyV\\Downloads\\BNB-USD.csv')"
   ]
  },
  {
   "cell_type": "code",
   "execution_count": 5,
   "metadata": {},
   "outputs": [
    {
     "data": {
      "text/html": [
       "<div>\n",
       "<style scoped>\n",
       "    .dataframe tbody tr th:only-of-type {\n",
       "        vertical-align: middle;\n",
       "    }\n",
       "\n",
       "    .dataframe tbody tr th {\n",
       "        vertical-align: top;\n",
       "    }\n",
       "\n",
       "    .dataframe thead th {\n",
       "        text-align: right;\n",
       "    }\n",
       "</style>\n",
       "<table border=\"1\" class=\"dataframe\">\n",
       "  <thead>\n",
       "    <tr style=\"text-align: right;\">\n",
       "      <th></th>\n",
       "      <th>Date</th>\n",
       "      <th>Open</th>\n",
       "      <th>High</th>\n",
       "      <th>Low</th>\n",
       "      <th>Close</th>\n",
       "      <th>Adj Close</th>\n",
       "      <th>Volume</th>\n",
       "    </tr>\n",
       "  </thead>\n",
       "  <tbody>\n",
       "    <tr>\n",
       "      <th>0</th>\n",
       "      <td>7/25/2017</td>\n",
       "      <td>0.115203</td>\n",
       "      <td>0.115841</td>\n",
       "      <td>0.101531</td>\n",
       "      <td>0.105870</td>\n",
       "      <td>0.105870</td>\n",
       "      <td>145269</td>\n",
       "    </tr>\n",
       "    <tr>\n",
       "      <th>1</th>\n",
       "      <td>7/26/2017</td>\n",
       "      <td>0.105893</td>\n",
       "      <td>0.109013</td>\n",
       "      <td>0.099266</td>\n",
       "      <td>0.105138</td>\n",
       "      <td>0.105138</td>\n",
       "      <td>200395</td>\n",
       "    </tr>\n",
       "    <tr>\n",
       "      <th>2</th>\n",
       "      <td>7/27/2017</td>\n",
       "      <td>0.105108</td>\n",
       "      <td>0.108479</td>\n",
       "      <td>0.100888</td>\n",
       "      <td>0.107737</td>\n",
       "      <td>0.107737</td>\n",
       "      <td>344499</td>\n",
       "    </tr>\n",
       "    <tr>\n",
       "      <th>3</th>\n",
       "      <td>7/28/2017</td>\n",
       "      <td>0.107632</td>\n",
       "      <td>0.109019</td>\n",
       "      <td>0.101473</td>\n",
       "      <td>0.104067</td>\n",
       "      <td>0.104067</td>\n",
       "      <td>342568</td>\n",
       "    </tr>\n",
       "    <tr>\n",
       "      <th>4</th>\n",
       "      <td>7/29/2017</td>\n",
       "      <td>0.104782</td>\n",
       "      <td>0.111264</td>\n",
       "      <td>0.101108</td>\n",
       "      <td>0.107811</td>\n",
       "      <td>0.107811</td>\n",
       "      <td>340218</td>\n",
       "    </tr>\n",
       "  </tbody>\n",
       "</table>\n",
       "</div>"
      ],
      "text/plain": [
       "        Date      Open      High       Low     Close  Adj Close  Volume\n",
       "0  7/25/2017  0.115203  0.115841  0.101531  0.105870   0.105870  145269\n",
       "1  7/26/2017  0.105893  0.109013  0.099266  0.105138   0.105138  200395\n",
       "2  7/27/2017  0.105108  0.108479  0.100888  0.107737   0.107737  344499\n",
       "3  7/28/2017  0.107632  0.109019  0.101473  0.104067   0.104067  342568\n",
       "4  7/29/2017  0.104782  0.111264  0.101108  0.107811   0.107811  340218"
      ]
     },
     "execution_count": 5,
     "metadata": {},
     "output_type": "execute_result"
    }
   ],
   "source": [
    "#inspect the data\n",
    "df.head(5)"
   ]
  },
  {
   "cell_type": "code",
   "execution_count": 6,
   "metadata": {},
   "outputs": [
    {
     "data": {
      "text/html": [
       "<div>\n",
       "<style scoped>\n",
       "    .dataframe tbody tr th:only-of-type {\n",
       "        vertical-align: middle;\n",
       "    }\n",
       "\n",
       "    .dataframe tbody tr th {\n",
       "        vertical-align: top;\n",
       "    }\n",
       "\n",
       "    .dataframe thead th {\n",
       "        text-align: right;\n",
       "    }\n",
       "</style>\n",
       "<table border=\"1\" class=\"dataframe\">\n",
       "  <thead>\n",
       "    <tr style=\"text-align: right;\">\n",
       "      <th></th>\n",
       "      <th>Open</th>\n",
       "      <th>High</th>\n",
       "      <th>Low</th>\n",
       "      <th>Close</th>\n",
       "      <th>Adj Close</th>\n",
       "      <th>Volume</th>\n",
       "    </tr>\n",
       "  </thead>\n",
       "  <tbody>\n",
       "    <tr>\n",
       "      <th>count</th>\n",
       "      <td>1481.000000</td>\n",
       "      <td>1481.000000</td>\n",
       "      <td>1481.000000</td>\n",
       "      <td>1481.000000</td>\n",
       "      <td>1481.000000</td>\n",
       "      <td>1.481000e+03</td>\n",
       "    </tr>\n",
       "    <tr>\n",
       "      <th>mean</th>\n",
       "      <td>59.950437</td>\n",
       "      <td>62.925189</td>\n",
       "      <td>56.922169</td>\n",
       "      <td>60.234108</td>\n",
       "      <td>60.234108</td>\n",
       "      <td>6.566034e+08</td>\n",
       "    </tr>\n",
       "    <tr>\n",
       "      <th>std</th>\n",
       "      <td>122.814980</td>\n",
       "      <td>129.303169</td>\n",
       "      <td>116.044598</td>\n",
       "      <td>123.179173</td>\n",
       "      <td>123.179173</td>\n",
       "      <td>1.473544e+09</td>\n",
       "    </tr>\n",
       "    <tr>\n",
       "      <th>min</th>\n",
       "      <td>0.099721</td>\n",
       "      <td>0.101211</td>\n",
       "      <td>0.096109</td>\n",
       "      <td>0.099867</td>\n",
       "      <td>0.099867</td>\n",
       "      <td>9.284000e+03</td>\n",
       "    </tr>\n",
       "    <tr>\n",
       "      <th>25%</th>\n",
       "      <td>10.126300</td>\n",
       "      <td>10.447901</td>\n",
       "      <td>9.773010</td>\n",
       "      <td>10.119137</td>\n",
       "      <td>10.119137</td>\n",
       "      <td>5.354030e+07</td>\n",
       "    </tr>\n",
       "    <tr>\n",
       "      <th>50%</th>\n",
       "      <td>16.447243</td>\n",
       "      <td>16.862385</td>\n",
       "      <td>15.983081</td>\n",
       "      <td>16.463215</td>\n",
       "      <td>16.463215</td>\n",
       "      <td>2.029506e+08</td>\n",
       "    </tr>\n",
       "    <tr>\n",
       "      <th>75%</th>\n",
       "      <td>28.377279</td>\n",
       "      <td>29.056501</td>\n",
       "      <td>27.579470</td>\n",
       "      <td>28.393448</td>\n",
       "      <td>28.393448</td>\n",
       "      <td>4.041409e+08</td>\n",
       "    </tr>\n",
       "    <tr>\n",
       "      <th>max</th>\n",
       "      <td>676.315918</td>\n",
       "      <td>690.931946</td>\n",
       "      <td>631.465271</td>\n",
       "      <td>675.684082</td>\n",
       "      <td>675.684082</td>\n",
       "      <td>1.798295e+10</td>\n",
       "    </tr>\n",
       "  </tbody>\n",
       "</table>\n",
       "</div>"
      ],
      "text/plain": [
       "              Open         High          Low        Close    Adj Close  \\\n",
       "count  1481.000000  1481.000000  1481.000000  1481.000000  1481.000000   \n",
       "mean     59.950437    62.925189    56.922169    60.234108    60.234108   \n",
       "std     122.814980   129.303169   116.044598   123.179173   123.179173   \n",
       "min       0.099721     0.101211     0.096109     0.099867     0.099867   \n",
       "25%      10.126300    10.447901     9.773010    10.119137    10.119137   \n",
       "50%      16.447243    16.862385    15.983081    16.463215    16.463215   \n",
       "75%      28.377279    29.056501    27.579470    28.393448    28.393448   \n",
       "max     676.315918   690.931946   631.465271   675.684082   675.684082   \n",
       "\n",
       "             Volume  \n",
       "count  1.481000e+03  \n",
       "mean   6.566034e+08  \n",
       "std    1.473544e+09  \n",
       "min    9.284000e+03  \n",
       "25%    5.354030e+07  \n",
       "50%    2.029506e+08  \n",
       "75%    4.041409e+08  \n",
       "max    1.798295e+10  "
      ]
     },
     "execution_count": 6,
     "metadata": {},
     "output_type": "execute_result"
    }
   ],
   "source": [
    "#Statistical value of data\n",
    "df.describe()"
   ]
  },
  {
   "cell_type": "code",
   "execution_count": 7,
   "metadata": {},
   "outputs": [
    {
     "data": {
      "text/html": [
       "<div>\n",
       "<style scoped>\n",
       "    .dataframe tbody tr th:only-of-type {\n",
       "        vertical-align: middle;\n",
       "    }\n",
       "\n",
       "    .dataframe tbody tr th {\n",
       "        vertical-align: top;\n",
       "    }\n",
       "\n",
       "    .dataframe thead th {\n",
       "        text-align: right;\n",
       "    }\n",
       "</style>\n",
       "<table border=\"1\" class=\"dataframe\">\n",
       "  <thead>\n",
       "    <tr style=\"text-align: right;\">\n",
       "      <th></th>\n",
       "      <th>Date</th>\n",
       "      <th>Open</th>\n",
       "      <th>High</th>\n",
       "      <th>Low</th>\n",
       "      <th>Close</th>\n",
       "      <th>Adj Close</th>\n",
       "      <th>Volume</th>\n",
       "    </tr>\n",
       "  </thead>\n",
       "  <tbody>\n",
       "    <tr>\n",
       "      <th>0</th>\n",
       "      <td>7/25/2017</td>\n",
       "      <td>0.115203</td>\n",
       "      <td>0.115841</td>\n",
       "      <td>0.101531</td>\n",
       "      <td>0.105870</td>\n",
       "      <td>0.105870</td>\n",
       "      <td>145269</td>\n",
       "    </tr>\n",
       "    <tr>\n",
       "      <th>1</th>\n",
       "      <td>7/26/2017</td>\n",
       "      <td>0.105893</td>\n",
       "      <td>0.109013</td>\n",
       "      <td>0.099266</td>\n",
       "      <td>0.105138</td>\n",
       "      <td>0.105138</td>\n",
       "      <td>200395</td>\n",
       "    </tr>\n",
       "    <tr>\n",
       "      <th>2</th>\n",
       "      <td>7/27/2017</td>\n",
       "      <td>0.105108</td>\n",
       "      <td>0.108479</td>\n",
       "      <td>0.100888</td>\n",
       "      <td>0.107737</td>\n",
       "      <td>0.107737</td>\n",
       "      <td>344499</td>\n",
       "    </tr>\n",
       "    <tr>\n",
       "      <th>3</th>\n",
       "      <td>7/28/2017</td>\n",
       "      <td>0.107632</td>\n",
       "      <td>0.109019</td>\n",
       "      <td>0.101473</td>\n",
       "      <td>0.104067</td>\n",
       "      <td>0.104067</td>\n",
       "      <td>342568</td>\n",
       "    </tr>\n",
       "    <tr>\n",
       "      <th>4</th>\n",
       "      <td>7/29/2017</td>\n",
       "      <td>0.104782</td>\n",
       "      <td>0.111264</td>\n",
       "      <td>0.101108</td>\n",
       "      <td>0.107811</td>\n",
       "      <td>0.107811</td>\n",
       "      <td>340218</td>\n",
       "    </tr>\n",
       "    <tr>\n",
       "      <th>...</th>\n",
       "      <td>...</td>\n",
       "      <td>...</td>\n",
       "      <td>...</td>\n",
       "      <td>...</td>\n",
       "      <td>...</td>\n",
       "      <td>...</td>\n",
       "      <td>...</td>\n",
       "    </tr>\n",
       "    <tr>\n",
       "      <th>1476</th>\n",
       "      <td>8/13/2021</td>\n",
       "      <td>386.044067</td>\n",
       "      <td>411.170532</td>\n",
       "      <td>383.216766</td>\n",
       "      <td>410.944885</td>\n",
       "      <td>410.944885</td>\n",
       "      <td>1724229835</td>\n",
       "    </tr>\n",
       "    <tr>\n",
       "      <th>1477</th>\n",
       "      <td>8/14/2021</td>\n",
       "      <td>410.783539</td>\n",
       "      <td>418.921265</td>\n",
       "      <td>400.752045</td>\n",
       "      <td>409.034485</td>\n",
       "      <td>409.034485</td>\n",
       "      <td>2023364348</td>\n",
       "    </tr>\n",
       "    <tr>\n",
       "      <th>1478</th>\n",
       "      <td>8/15/2021</td>\n",
       "      <td>408.982208</td>\n",
       "      <td>414.931000</td>\n",
       "      <td>396.865204</td>\n",
       "      <td>414.595032</td>\n",
       "      <td>414.595032</td>\n",
       "      <td>1826134192</td>\n",
       "    </tr>\n",
       "    <tr>\n",
       "      <th>1479</th>\n",
       "      <td>8/16/2021</td>\n",
       "      <td>414.357666</td>\n",
       "      <td>436.618408</td>\n",
       "      <td>411.123260</td>\n",
       "      <td>417.470856</td>\n",
       "      <td>417.470856</td>\n",
       "      <td>2620571467</td>\n",
       "    </tr>\n",
       "    <tr>\n",
       "      <th>1480</th>\n",
       "      <td>8/17/2021</td>\n",
       "      <td>416.598572</td>\n",
       "      <td>429.128632</td>\n",
       "      <td>410.275574</td>\n",
       "      <td>422.220764</td>\n",
       "      <td>422.220764</td>\n",
       "      <td>2716975104</td>\n",
       "    </tr>\n",
       "  </tbody>\n",
       "</table>\n",
       "<p>1481 rows × 7 columns</p>\n",
       "</div>"
      ],
      "text/plain": [
       "           Date        Open        High         Low       Close   Adj Close  \\\n",
       "0     7/25/2017    0.115203    0.115841    0.101531    0.105870    0.105870   \n",
       "1     7/26/2017    0.105893    0.109013    0.099266    0.105138    0.105138   \n",
       "2     7/27/2017    0.105108    0.108479    0.100888    0.107737    0.107737   \n",
       "3     7/28/2017    0.107632    0.109019    0.101473    0.104067    0.104067   \n",
       "4     7/29/2017    0.104782    0.111264    0.101108    0.107811    0.107811   \n",
       "...         ...         ...         ...         ...         ...         ...   \n",
       "1476  8/13/2021  386.044067  411.170532  383.216766  410.944885  410.944885   \n",
       "1477  8/14/2021  410.783539  418.921265  400.752045  409.034485  409.034485   \n",
       "1478  8/15/2021  408.982208  414.931000  396.865204  414.595032  414.595032   \n",
       "1479  8/16/2021  414.357666  436.618408  411.123260  417.470856  417.470856   \n",
       "1480  8/17/2021  416.598572  429.128632  410.275574  422.220764  422.220764   \n",
       "\n",
       "          Volume  \n",
       "0         145269  \n",
       "1         200395  \n",
       "2         344499  \n",
       "3         342568  \n",
       "4         340218  \n",
       "...          ...  \n",
       "1476  1724229835  \n",
       "1477  2023364348  \n",
       "1478  1826134192  \n",
       "1479  2620571467  \n",
       "1480  2716975104  \n",
       "\n",
       "[1481 rows x 7 columns]"
      ]
     },
     "execution_count": 7,
     "metadata": {},
     "output_type": "execute_result"
    }
   ],
   "source": [
    "df.dropna()"
   ]
  },
  {
   "cell_type": "code",
   "execution_count": 8,
   "metadata": {},
   "outputs": [
    {
     "name": "stdout",
     "output_type": "stream",
     "text": [
      "             Adj Close\n",
      "Date                  \n",
      "2017-07-25    0.105870\n",
      "2017-07-26    0.105138\n",
      "2017-07-27    0.107737\n",
      "2017-07-28    0.104067\n",
      "2017-07-29    0.107811\n",
      "...                ...\n",
      "2021-08-13  410.944885\n",
      "2021-08-14  409.034485\n",
      "2021-08-15  414.595032\n",
      "2021-08-16  417.470856\n",
      "2021-08-17  422.220764\n",
      "\n",
      "[1481 rows x 1 columns]\n"
     ]
    }
   ],
   "source": [
    "\n",
    "#Before we start developing our regression model we are going to trim our data some. \n",
    "#The ‘Date’ column will be converted to a DatetimeIndex and the ‘Adj Close’ will be the only numerical values we keep. \n",
    "#Everything else is getting dropped.\n",
    "\n",
    "#conversion to datetimeindex\n",
    "df.set_index(pd.DatetimeIndex(df['Date']), inplace = True)\n",
    "\n",
    "#Keeping only adj close\n",
    "df = df [['Adj Close']]\n",
    "\n",
    "\n",
    "print(df)"
   ]
  },
  {
   "cell_type": "code",
   "execution_count": 9,
   "metadata": {},
   "outputs": [
    {
     "name": "stdout",
     "output_type": "stream",
     "text": [
      "<class 'pandas.core.frame.DataFrame'>\n",
      "DatetimeIndex: 1481 entries, 2017-07-25 to 2021-08-17\n",
      "Data columns (total 1 columns):\n",
      " #   Column     Non-Null Count  Dtype  \n",
      "---  ------     --------------  -----  \n",
      " 0   Adj Close  1481 non-null   float64\n",
      "dtypes: float64(1)\n",
      "memory usage: 23.1 KB\n"
     ]
    }
   ],
   "source": [
    "#Inspect new data Frame\n",
    "df.info()"
   ]
  },
  {
   "cell_type": "code",
   "execution_count": 10,
   "metadata": {},
   "outputs": [
    {
     "data": {
      "text/plain": [
       "<AxesSubplot:xlabel='Date', ylabel='Adj Close'>"
      ]
     },
     "execution_count": 10,
     "metadata": {},
     "output_type": "execute_result"
    },
    {
     "data": {
      "image/png": "[encoded data removed]",
      "text/plain": [
       "<Figure size 432x288 with 1 Axes>"
      ]
     },
     "metadata": {
      "needs_background": "light"
     },
     "output_type": "display_data"
    }
   ],
   "source": [
    "# Visualize dataframe\n",
    "\n",
    "sns.lineplot(data=df['Adj Close'])"
   ]
  },
  {
   "cell_type": "code",
   "execution_count": 11,
   "metadata": {},
   "outputs": [
    {
     "data": {
      "text/plain": [
       "Date\n",
       "2017-07-25           NaN\n",
       "2017-07-26           NaN\n",
       "2017-07-27           NaN\n",
       "2017-07-28           NaN\n",
       "2017-07-29           NaN\n",
       "                 ...    \n",
       "2021-08-13    368.632837\n",
       "2021-08-14    375.978591\n",
       "2021-08-15    382.999762\n",
       "2021-08-16    389.267234\n",
       "2021-08-17    395.258785\n",
       "Name: EMA_10, Length: 1481, dtype: float64"
      ]
     },
     "execution_count": 11,
     "metadata": {},
     "output_type": "execute_result"
    }
   ],
   "source": [
    "import pandas_ta\n",
    "# Add EMA to dataframe by appending\n",
    "# Note: pandas_ta integrates seamlessly into\n",
    "# our existing dataframe\n",
    "df.ta.ema(close='Adj Close', length=10, append=True)"
   ]
  },
  {
   "cell_type": "code",
   "execution_count": 12,
   "metadata": {},
   "outputs": [
    {
     "name": "stdout",
     "output_type": "stream",
     "text": [
      "            Adj Close    EMA_10\n",
      "Date                           \n",
      "2017-07-25   0.105870       NaN\n",
      "2017-07-26   0.105138       NaN\n",
      "2017-07-27   0.107737       NaN\n",
      "2017-07-28   0.104067       NaN\n",
      "2017-07-29   0.107811       NaN\n",
      "2017-07-30   0.106414       NaN\n",
      "2017-07-31   0.104250       NaN\n",
      "2017-08-01   0.099867       NaN\n",
      "2017-08-02   0.100452       NaN\n",
      "2017-08-03   0.106642  0.104825\n"
     ]
    }
   ],
   "source": [
    "# Print the first 10 entries of our data\n",
    "print(df.head(10))\n"
   ]
  },
  {
   "cell_type": "code",
   "execution_count": 13,
   "metadata": {},
   "outputs": [],
   "source": [
    "# Drop the first n-rows\n",
    "df = df.iloc[10:]"
   ]
  },
  {
   "cell_type": "code",
   "execution_count": 14,
   "metadata": {},
   "outputs": [
    {
     "data": {
      "text/html": [
       "<div>\n",
       "<style scoped>\n",
       "    .dataframe tbody tr th:only-of-type {\n",
       "        vertical-align: middle;\n",
       "    }\n",
       "\n",
       "    .dataframe tbody tr th {\n",
       "        vertical-align: top;\n",
       "    }\n",
       "\n",
       "    .dataframe thead th {\n",
       "        text-align: right;\n",
       "    }\n",
       "</style>\n",
       "<table border=\"1\" class=\"dataframe\">\n",
       "  <thead>\n",
       "    <tr style=\"text-align: right;\">\n",
       "      <th></th>\n",
       "      <th>Adj Close</th>\n",
       "      <th>EMA_10</th>\n",
       "    </tr>\n",
       "    <tr>\n",
       "      <th>Date</th>\n",
       "      <th></th>\n",
       "      <th></th>\n",
       "    </tr>\n",
       "  </thead>\n",
       "  <tbody>\n",
       "    <tr>\n",
       "      <th>2017-08-04</th>\n",
       "      <td>0.107494</td>\n",
       "      <td>0.105310</td>\n",
       "    </tr>\n",
       "    <tr>\n",
       "      <th>2017-08-05</th>\n",
       "      <td>0.128871</td>\n",
       "      <td>0.109594</td>\n",
       "    </tr>\n",
       "    <tr>\n",
       "      <th>2017-08-06</th>\n",
       "      <td>0.130999</td>\n",
       "      <td>0.113486</td>\n",
       "    </tr>\n",
       "    <tr>\n",
       "      <th>2017-08-07</th>\n",
       "      <td>0.148848</td>\n",
       "      <td>0.119915</td>\n",
       "    </tr>\n",
       "    <tr>\n",
       "      <th>2017-08-08</th>\n",
       "      <td>0.224421</td>\n",
       "      <td>0.138916</td>\n",
       "    </tr>\n",
       "    <tr>\n",
       "      <th>2017-08-09</th>\n",
       "      <td>0.242912</td>\n",
       "      <td>0.157825</td>\n",
       "    </tr>\n",
       "    <tr>\n",
       "      <th>2017-08-10</th>\n",
       "      <td>0.349079</td>\n",
       "      <td>0.192598</td>\n",
       "    </tr>\n",
       "    <tr>\n",
       "      <th>2017-08-11</th>\n",
       "      <td>0.392572</td>\n",
       "      <td>0.228957</td>\n",
       "    </tr>\n",
       "    <tr>\n",
       "      <th>2017-08-12</th>\n",
       "      <td>0.446365</td>\n",
       "      <td>0.268486</td>\n",
       "    </tr>\n",
       "    <tr>\n",
       "      <th>2017-08-13</th>\n",
       "      <td>0.876828</td>\n",
       "      <td>0.379093</td>\n",
       "    </tr>\n",
       "    <tr>\n",
       "      <th>2017-08-14</th>\n",
       "      <td>1.295570</td>\n",
       "      <td>0.545726</td>\n",
       "    </tr>\n",
       "    <tr>\n",
       "      <th>2017-08-15</th>\n",
       "      <td>1.056550</td>\n",
       "      <td>0.638603</td>\n",
       "    </tr>\n",
       "    <tr>\n",
       "      <th>2017-08-16</th>\n",
       "      <td>1.437240</td>\n",
       "      <td>0.783809</td>\n",
       "    </tr>\n",
       "    <tr>\n",
       "      <th>2017-08-17</th>\n",
       "      <td>1.967150</td>\n",
       "      <td>0.998962</td>\n",
       "    </tr>\n",
       "    <tr>\n",
       "      <th>2017-08-18</th>\n",
       "      <td>2.384000</td>\n",
       "      <td>1.250787</td>\n",
       "    </tr>\n",
       "  </tbody>\n",
       "</table>\n",
       "</div>"
      ],
      "text/plain": [
       "            Adj Close    EMA_10\n",
       "Date                           \n",
       "2017-08-04   0.107494  0.105310\n",
       "2017-08-05   0.128871  0.109594\n",
       "2017-08-06   0.130999  0.113486\n",
       "2017-08-07   0.148848  0.119915\n",
       "2017-08-08   0.224421  0.138916\n",
       "2017-08-09   0.242912  0.157825\n",
       "2017-08-10   0.349079  0.192598\n",
       "2017-08-11   0.392572  0.228957\n",
       "2017-08-12   0.446365  0.268486\n",
       "2017-08-13   0.876828  0.379093\n",
       "2017-08-14   1.295570  0.545726\n",
       "2017-08-15   1.056550  0.638603\n",
       "2017-08-16   1.437240  0.783809\n",
       "2017-08-17   1.967150  0.998962\n",
       "2017-08-18   2.384000  1.250787"
      ]
     },
     "execution_count": 14,
     "metadata": {},
     "output_type": "execute_result"
    }
   ],
   "source": [
    "df.head(15)"
   ]
  },
  {
   "cell_type": "code",
   "execution_count": 15,
   "metadata": {},
   "outputs": [
    {
     "data": {
      "text/plain": [
       "<AxesSubplot:xlabel='Date'>"
      ]
     },
     "execution_count": 15,
     "metadata": {},
     "output_type": "execute_result"
    },
    {
     "data": {
      "image/png": "[encoded data removed]",
      "text/plain": [
       "<Figure size 432x288 with 1 Axes>"
      ]
     },
     "metadata": {
      "needs_background": "light"
     },
     "output_type": "display_data"
    }
   ],
   "source": [
    "# Visualize dataframe\n",
    "\n",
    "sns.lineplot(data=df)"
   ]
  },
  {
   "cell_type": "code",
   "execution_count": 16,
   "metadata": {},
   "outputs": [],
   "source": [
    "# Split data into testing and training sets\n",
    "X_train, X_test, y_train, y_test = train_test_split(df[['Adj Close']], df[['EMA_10']], test_size=.2)\n",
    "linreg = LinearRegression()\n",
    "linreg.fit(X_train, y_train)\n",
    "y_pred = linreg.predict(X_test)"
   ]
  },
  {
   "cell_type": "code",
   "execution_count": 17,
   "metadata": {},
   "outputs": [
    {
     "name": "stdout",
     "output_type": "stream",
     "text": [
      "        Adj Close\n",
      "count  295.000000\n",
      "mean    65.872990\n",
      "std    126.602335\n",
      "min      0.130999\n",
      "25%     10.133100\n",
      "50%     17.053301\n",
      "75%     30.477776\n",
      "max    646.100830\n"
     ]
    }
   ],
   "source": [
    "# Test\n",
    "print(X_test.describe())"
   ]
  },
  {
   "cell_type": "code",
   "execution_count": 18,
   "metadata": {},
   "outputs": [
    {
     "name": "stdout",
     "output_type": "stream",
     "text": [
      "         Adj Close\n",
      "count  1176.000000\n",
      "mean     59.330896\n",
      "std     122.725883\n",
      "min       0.107494\n",
      "25%      10.227350\n",
      "50%      16.422262\n",
      "75%      28.067123\n",
      "max     675.684082\n"
     ]
    }
   ],
   "source": [
    "# Training set\n",
    "print(X_train.describe())"
   ]
  },
  {
   "cell_type": "code",
   "execution_count": 19,
   "metadata": {},
   "outputs": [
    {
     "data": {
      "text/plain": [
       "False"
      ]
     },
     "execution_count": 19,
     "metadata": {},
     "output_type": "execute_result"
    }
   ],
   "source": [
    "np.any(np.isnan(df))"
   ]
  },
  {
   "cell_type": "code",
   "execution_count": 20,
   "metadata": {},
   "outputs": [
    {
     "data": {
      "text/plain": [
       "True"
      ]
     },
     "execution_count": 20,
     "metadata": {},
     "output_type": "execute_result"
    }
   ],
   "source": [
    "np.all(np.isfinite(df))"
   ]
  },
  {
   "cell_type": "code",
   "execution_count": 21,
   "metadata": {},
   "outputs": [],
   "source": [
    "#this handles the infinite values located in the data set\n",
    "df =df[~df.isin([np.nan, np.inf, -np.inf]).any(1)]"
   ]
  },
  {
   "cell_type": "code",
   "execution_count": 22,
   "metadata": {},
   "outputs": [
    {
     "data": {
      "text/plain": [
       "LinearRegression()"
      ]
     },
     "execution_count": 22,
     "metadata": {},
     "output_type": "execute_result"
    }
   ],
   "source": [
    "# Create Regression Model\n",
    "model = LinearRegression()\n",
    "# Train the model\n",
    "model.fit(X_train, y_train)"
   ]
  },
  {
   "cell_type": "code",
   "execution_count": 23,
   "metadata": {},
   "outputs": [
    {
     "name": "stdout",
     "output_type": "stream",
     "text": [
      "Model Coefficients: [[0.96708268]]\n",
      "Mean Absolute Error: 4.7218617555260565\n",
      "Coefficient of Determination: 0.982077364296257\n"
     ]
    }
   ],
   "source": [
    "from sklearn.metrics import mean_squared_error, r2_score, mean_absolute_error\n",
    "# Printout relevant metrics\n",
    "print(\"Model Coefficients:\", model.coef_)\n",
    "print(\"Mean Absolute Error:\", mean_absolute_error(y_test, y_pred))\n",
    "print(\"Coefficient of Determination:\", r2_score(y_test, y_pred))"
   ]
  },
  {
   "cell_type": "code",
   "execution_count": 24,
   "metadata": {},
   "outputs": [
    {
     "data": {
      "text/plain": [
       "[<matplotlib.lines.Line2D at 0x2190e350fd0>]"
      ]
     },
     "execution_count": 24,
     "metadata": {},
     "output_type": "execute_result"
    },
    {
     "data": {
      "image/png": "[encoded data removed]",
      "text/plain": [
       "<Figure size 432x288 with 1 Axes>"
      ]
     },
     "metadata": {
      "needs_background": "light"
     },
     "output_type": "display_data"
    }
   ],
   "source": [
    "plt.scatter(X_test, y_test,  color='orange')\n",
    "plt.plot(X_test, y_pred, color='black', linewidth=2)\n"
   ]
  },
  {
   "cell_type": "code",
   "execution_count": 25,
   "metadata": {},
   "outputs": [
    {
     "data": {
      "text/html": [
       "<div>\n",
       "<style scoped>\n",
       "    .dataframe tbody tr th:only-of-type {\n",
       "        vertical-align: middle;\n",
       "    }\n",
       "\n",
       "    .dataframe tbody tr th {\n",
       "        vertical-align: top;\n",
       "    }\n",
       "\n",
       "    .dataframe thead th {\n",
       "        text-align: right;\n",
       "    }\n",
       "</style>\n",
       "<table border=\"1\" class=\"dataframe\">\n",
       "  <thead>\n",
       "    <tr style=\"text-align: right;\">\n",
       "      <th></th>\n",
       "      <th>Adj Close</th>\n",
       "      <th>EMA_10</th>\n",
       "    </tr>\n",
       "    <tr>\n",
       "      <th>Date</th>\n",
       "      <th></th>\n",
       "      <th></th>\n",
       "    </tr>\n",
       "  </thead>\n",
       "  <tbody>\n",
       "    <tr>\n",
       "      <th>2017-08-04</th>\n",
       "      <td>0.107494</td>\n",
       "      <td>0.105310</td>\n",
       "    </tr>\n",
       "    <tr>\n",
       "      <th>2017-08-05</th>\n",
       "      <td>0.128871</td>\n",
       "      <td>0.109594</td>\n",
       "    </tr>\n",
       "    <tr>\n",
       "      <th>2017-08-06</th>\n",
       "      <td>0.130999</td>\n",
       "      <td>0.113486</td>\n",
       "    </tr>\n",
       "    <tr>\n",
       "      <th>2017-08-07</th>\n",
       "      <td>0.148848</td>\n",
       "      <td>0.119915</td>\n",
       "    </tr>\n",
       "    <tr>\n",
       "      <th>2017-08-08</th>\n",
       "      <td>0.224421</td>\n",
       "      <td>0.138916</td>\n",
       "    </tr>\n",
       "  </tbody>\n",
       "</table>\n",
       "</div>"
      ],
      "text/plain": [
       "            Adj Close    EMA_10\n",
       "Date                           \n",
       "2017-08-04   0.107494  0.105310\n",
       "2017-08-05   0.128871  0.109594\n",
       "2017-08-06   0.130999  0.113486\n",
       "2017-08-07   0.148848  0.119915\n",
       "2017-08-08   0.224421  0.138916"
      ]
     },
     "execution_count": 25,
     "metadata": {},
     "output_type": "execute_result"
    }
   ],
   "source": [
    "df.head()"
   ]
  },
  {
   "cell_type": "code",
   "execution_count": 26,
   "metadata": {},
   "outputs": [
    {
     "data": {
      "image/png": "[encoded data removed]",
      "text/plain": [
       "<Figure size 432x288 with 1 Axes>"
      ]
     },
     "metadata": {
      "needs_background": "light"
     },
     "output_type": "display_data"
    }
   ],
   "source": [
    "df.plot(kind ='scatter',x='Adj Close',y='EMA_10')\n",
    "plt.show()"
   ]
  },
  {
   "cell_type": "code",
   "execution_count": 27,
   "metadata": {},
   "outputs": [],
   "source": [
    "#test train split for supervised training\n",
    "X_train,X_test,y_train,y_test = train_test_split(df[['Adj Close']], df[['EMA_10']])"
   ]
  },
  {
   "cell_type": "code",
   "execution_count": 28,
   "metadata": {},
   "outputs": [
    {
     "data": {
      "image/png": "[encoded data removed]",
      "text/plain": [
       "<Figure size 432x288 with 1 Axes>"
      ]
     },
     "metadata": {
      "needs_background": "light"
     },
     "output_type": "display_data"
    }
   ],
   "source": [
    "#test train split visualiztion\n",
    "plt.scatter(X_train,y_train, label='Training Data', color ='red',alpha=.7)\n",
    "plt.scatter(X_test,y_test, label='Testing Data', color ='green',alpha=.7)\n",
    "plt.legend()\n",
    "plt.title(\"Test Train Split\")\n",
    "plt.show()"
   ]
  },
  {
   "cell_type": "code",
   "execution_count": 29,
   "metadata": {},
   "outputs": [
    {
     "data": {
      "text/plain": [
       "LinearRegression()"
      ]
     },
     "execution_count": 29,
     "metadata": {},
     "output_type": "execute_result"
    }
   ],
   "source": [
    "#Create Linear model\n",
    "LR = LinearRegression()\n",
    "LR.fit(X_train.values.reshape(-1,1), y_train.values)"
   ]
  },
  {
   "cell_type": "code",
   "execution_count": 41,
   "metadata": {},
   "outputs": [
    {
     "data": {
      "image/png": "[encoded data removed]",
      "text/plain": [
       "<Figure size 432x288 with 1 Axes>"
      ]
     },
     "metadata": {},
     "output_type": "display_data"
    }
   ],
   "source": [
    "#use model to predic on TEST data\n",
    "prediction = LR.predict(X_test.values.reshape(-1,1))\n",
    "\n",
    "# Plot prediction line against actual test data\n",
    "plt.plot(X_test, prediction,label = 'Linear Regression', color='blue')\n",
    "plt.scatter(X_test, y_test,label = 'Actual Test Data', color='green', alpha =.7)\n",
    "plt.legend()\n",
    "plt.show()\n"
   ]
  },
  {
   "cell_type": "code",
   "execution_count": 39,
   "metadata": {},
   "outputs": [
    {
     "data": {
      "image/png": "[encoded data removed]",
      "text/plain": [
       "<Figure size 360x360 with 1 Axes>"
      ]
     },
     "metadata": {},
     "output_type": "display_data"
    }
   ],
   "source": [
    "sns.set_theme(color_codes=True)\n",
    "\n",
    "sns.lmplot(x=\"Adj Close\", y=\"EMA_10\", data=df, x_estimator=np.mean);"
   ]
  },
  {
   "cell_type": "code",
   "execution_count": 35,
   "metadata": {},
   "outputs": [
    {
     "data": {
      "text/plain": [
       "array([339.69440601])"
      ]
     },
     "execution_count": 35,
     "metadata": {},
     "output_type": "execute_result"
    }
   ],
   "source": [
    "#Predicting closing price \n",
    "LR.predict(np.array([[350]]))[0]"
   ]
  },
  {
   "cell_type": "code",
   "execution_count": 332,
   "metadata": {},
   "outputs": [
    {
     "data": {
      "text/plain": [
       "0.9880235892667998"
      ]
     },
     "execution_count": 332,
     "metadata": {},
     "output_type": "execute_result"
    }
   ],
   "source": [
    "#Score this model\n",
    "LR.score(X_test.values.reshape(-1,1), y_test.values)"
   ]
  },
  {
   "cell_type": "code",
   "execution_count": null,
   "metadata": {},
   "outputs": [],
   "source": [
    "# The model score is high this model shows that the Adj Closing value is continuing to grow.\n",
    "# The goal of this project was to predict a closing price for a specific day.\n",
    "# Educational purposes was to show various ways to show linear regression as well machine learning skills like training data sets\n",
    "# EMA was used becuase of Cryptocurrency being a trending market in todays world.\n"
   ]
  }
 ],
 "metadata": {
  "kernelspec": {
   "display_name": "Python 3",
   "language": "python",
   "name": "python3"
  },
  "language_info": {
   "codemirror_mode": {
    "name": "ipython",
    "version": 3
   },
   "file_extension": ".py",
   "mimetype": "text/x-python",
   "name": "python",
   "nbconvert_exporter": "python",
   "pygments_lexer": "ipython3",
   "version": "3.8.5"
  }
 },
 "nbformat": 4,
 "nbformat_minor": 4
}
